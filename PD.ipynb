{
 "metadata": {
  "language_info": {
   "codemirror_mode": {
    "name": "ipython",
    "version": 3
   },
   "file_extension": ".py",
   "mimetype": "text/x-python",
   "name": "python",
   "nbconvert_exporter": "python",
   "pygments_lexer": "ipython3",
   "version": "3.8.5-final"
  },
  "orig_nbformat": 2,
  "kernelspec": {
   "name": "python38564bitb092ec9ef1f142fcb39ba385da4c09c1",
   "display_name": "Python 3.8.5 64-bit",
   "language": "python"
  }
 },
 "nbformat": 4,
 "nbformat_minor": 2,
 "cells": [
  {
   "cell_type": "code",
   "execution_count": 25,
   "metadata": {},
   "outputs": [],
   "source": [
    "import networkx as nx\n",
    "import matplotlib.pyplot as plt\n",
    "\n",
    "G= nx.read_gml(\"./lesmis.gml\") # Read the network\n",
    "G = G.to_undirected() #Remove a direcao dos links\n"
   ]
  },
  {
   "cell_type": "code",
   "execution_count": 32,
   "metadata": {},
   "outputs": [
    {
     "output_type": "stream",
     "name": "stdout",
     "text": [
      "{0: {'P': 0, 'Behaviour': 'Detractor'}, 1: {'P': 0, 'Behaviour': 'Cooperator'}, 2: {'P': 0, 'Behaviour': 'Detractor'}, 3: {'P': 0, 'Behaviour': 'Cooperator'}, 4: {'P': 0, 'Behaviour': 'Detractor'}, 5: {'P': 0, 'Behaviour': 'Cooperator'}, 6: {'P': 0, 'Behaviour': 'Detractor'}, 7: {'P': 0, 'Behaviour': 'Cooperator'}, 8: {'P': 0, 'Behaviour': 'Detractor'}, 9: {'P': 0, 'Behaviour': 'Cooperator'}, 10: {'P': 0, 'Behaviour': 'Detractor'}, 11: {'P': 0, 'Behaviour': 'Cooperator'}, 12: {'P': 0, 'Behaviour': 'Detractor'}, 13: {'P': 0, 'Behaviour': 'Cooperator'}, 14: {'P': 0, 'Behaviour': 'Detractor'}, 15: {'P': 0, 'Behaviour': 'Cooperator'}, 16: {'P': 0, 'Behaviour': 'Detractor'}, 17: {'P': 0, 'Behaviour': 'Cooperator'}, 18: {'P': 0, 'Behaviour': 'Detractor'}, 19: {'P': 0, 'Behaviour': 'Cooperator'}, 20: {'P': 0, 'Behaviour': 'Detractor'}, 21: {'P': 0, 'Behaviour': 'Cooperator'}, 22: {'P': 0, 'Behaviour': 'Detractor'}, 23: {'P': 0, 'Behaviour': 'Cooperator'}, 24: {'P': 0, 'Behaviour': 'Detractor'}, 25: {'P': 0, 'Behaviour': 'Cooperator'}, 26: {'P': 0, 'Behaviour': 'Detractor'}, 27: {'P': 0, 'Behaviour': 'Cooperator'}, 28: {'P': 0, 'Behaviour': 'Detractor'}, 29: {'P': 0, 'Behaviour': 'Cooperator'}, 30: {'P': 0, 'Behaviour': 'Detractor'}, 31: {'P': 0, 'Behaviour': 'Cooperator'}, 32: {'P': 0, 'Behaviour': 'Detractor'}, 33: {'P': 0, 'Behaviour': 'Cooperator'}, 34: {'P': 0, 'Behaviour': 'Detractor'}, 35: {'P': 0, 'Behaviour': 'Cooperator'}, 36: {'P': 0, 'Behaviour': 'Detractor'}, 37: {'P': 0, 'Behaviour': 'Cooperator'}, 38: {'P': 0, 'Behaviour': 'Detractor'}, 39: {'P': 0, 'Behaviour': 'Cooperator'}, 40: {'P': 0, 'Behaviour': 'Detractor'}, 41: {'P': 0, 'Behaviour': 'Cooperator'}, 42: {'P': 0, 'Behaviour': 'Detractor'}, 43: {'P': 0, 'Behaviour': 'Cooperator'}, 44: {'P': 0, 'Behaviour': 'Detractor'}, 45: {'P': 0, 'Behaviour': 'Cooperator'}, 46: {'P': 0, 'Behaviour': 'Detractor'}, 47: {'P': 0, 'Behaviour': 'Cooperator'}, 48: {'P': 0, 'Behaviour': 'Detractor'}, 49: {'P': 0, 'Behaviour': 'Cooperator'}, 50: {'P': 0, 'Behaviour': 'Detractor'}, 51: {'P': 0, 'Behaviour': 'Cooperator'}, 52: {'P': 0, 'Behaviour': 'Detractor'}, 53: {'P': 0, 'Behaviour': 'Cooperator'}, 54: {'P': 0, 'Behaviour': 'Detractor'}, 55: {'P': 0, 'Behaviour': 'Cooperator'}, 56: {'P': 0, 'Behaviour': 'Detractor'}, 57: {'P': 0, 'Behaviour': 'Cooperator'}, 58: {'P': 0, 'Behaviour': 'Detractor'}, 59: {'P': 0, 'Behaviour': 'Cooperator'}, 60: {'P': 0, 'Behaviour': 'Detractor'}, 61: {'P': 0, 'Behaviour': 'Cooperator'}, 62: {'P': 0, 'Behaviour': 'Detractor'}, 63: {'P': 0, 'Behaviour': 'Cooperator'}, 64: {'P': 0, 'Behaviour': 'Detractor'}, 65: {'P': 0, 'Behaviour': 'Cooperator'}, 66: {'P': 0, 'Behaviour': 'Detractor'}, 67: {'P': 0, 'Behaviour': 'Cooperator'}, 68: {'P': 0, 'Behaviour': 'Detractor'}, 69: {'P': 0, 'Behaviour': 'Cooperator'}, 70: {'P': 0, 'Behaviour': 'Detractor'}, 71: {'P': 0, 'Behaviour': 'Cooperator'}, 72: {'P': 0, 'Behaviour': 'Detractor'}, 73: {'P': 0, 'Behaviour': 'Cooperator'}, 74: {'P': 0, 'Behaviour': 'Detractor'}, 75: {'P': 0, 'Behaviour': 'Cooperator'}, 76: {'P': 0, 'Behaviour': 'Detractor'}}\n"
     ]
    }
   ],
   "source": [
    "attrs = {}\n",
    "N = len(G) #number of nodes in Graph\n",
    "\n",
    "for n in range(0, N):\n",
    "    if (n%2): attrs[n] = {\"P\": 0, \"Behaviour\": \"Cooperator\"}\n",
    "    else:  attrs[n] = {\"P\": 0, \"Behaviour\": \"Detractor\"}\n",
    "\n",
    "print(attrs)\n",
    "\n",
    "nx.set_node_attributes(G, attrs)\n",
    "nx.write_gml(G, \"./lesmis2.gml\")"
   ]
  }
 ]
}